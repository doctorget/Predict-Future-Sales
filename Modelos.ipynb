{
 "cells": [
  {
   "cell_type": "code",
   "execution_count": 44,
   "metadata": {},
   "outputs": [],
   "source": [
    "import pandas as pd\n",
    "import matplotlib.pyplot as plt\n",
    "import datetime\n",
    "from statsmodels.tsa.arima_model import ARIMA\n",
    "\n",
    "ts = pd.read_csv('dados/ts.csv')\n",
    "dateparse = lambda dates: pd.datetime.strptime(dates, '%Y-%m-%d')\n",
    "ts = pd.read_csv('dados/ts.csv', parse_dates = ['mes'], index_col = 'mes', date_parser = dateparse)\n"
   ]
  },
  {
   "cell_type": "code",
   "execution_count": 1,
   "metadata": {},
   "outputs": [
    {
     "ename": "ModuleNotFoundError",
     "evalue": "No module named 'pyramid'",
     "output_type": "error",
     "traceback": [
      "\u001b[1;31m---------------------------------------------------------------------------\u001b[0m",
      "\u001b[1;31mModuleNotFoundError\u001b[0m                       Traceback (most recent call last)",
      "\u001b[1;32m<ipython-input-1-4e35d3e40b01>\u001b[0m in \u001b[0;36m<module>\u001b[1;34m\u001b[0m\n\u001b[1;32m----> 1\u001b[1;33m \u001b[1;32mfrom\u001b[0m \u001b[0mpyramid\u001b[0m\u001b[1;33m.\u001b[0m\u001b[0marima\u001b[0m \u001b[1;32mimport\u001b[0m \u001b[0mauto_arima\u001b[0m\u001b[1;33m\u001b[0m\u001b[1;33m\u001b[0m\u001b[0m\n\u001b[0m",
      "\u001b[1;31mModuleNotFoundError\u001b[0m: No module named 'pyramid'"
     ]
    }
   ],
   "source": [
    "!co"
   ]
  },
  {
   "cell_type": "code",
   "execution_count": 45,
   "metadata": {},
   "outputs": [
    {
     "data": {
      "text/html": [
       "<div>\n",
       "<style scoped>\n",
       "    .dataframe tbody tr th:only-of-type {\n",
       "        vertical-align: middle;\n",
       "    }\n",
       "\n",
       "    .dataframe tbody tr th {\n",
       "        vertical-align: top;\n",
       "    }\n",
       "\n",
       "    .dataframe thead th {\n",
       "        text-align: right;\n",
       "    }\n",
       "</style>\n",
       "<table border=\"1\" class=\"dataframe\">\n",
       "  <thead>\n",
       "    <tr style=\"text-align: right;\">\n",
       "      <th></th>\n",
       "      <th>Unnamed: 0</th>\n",
       "      <th>vendas</th>\n",
       "      <th>aumento</th>\n",
       "      <th>aceleracao</th>\n",
       "    </tr>\n",
       "    <tr>\n",
       "      <th>mes</th>\n",
       "      <th></th>\n",
       "      <th></th>\n",
       "      <th></th>\n",
       "      <th></th>\n",
       "    </tr>\n",
       "  </thead>\n",
       "  <tbody>\n",
       "    <tr>\n",
       "      <td>2013-01-01</td>\n",
       "      <td>0</td>\n",
       "      <td>131479.0</td>\n",
       "      <td>NaN</td>\n",
       "      <td>NaN</td>\n",
       "    </tr>\n",
       "    <tr>\n",
       "      <td>2013-02-01</td>\n",
       "      <td>1</td>\n",
       "      <td>128090.0</td>\n",
       "      <td>-3389.0</td>\n",
       "      <td>NaN</td>\n",
       "    </tr>\n",
       "    <tr>\n",
       "      <td>2013-03-01</td>\n",
       "      <td>2</td>\n",
       "      <td>147142.0</td>\n",
       "      <td>19052.0</td>\n",
       "      <td>22441.0</td>\n",
       "    </tr>\n",
       "    <tr>\n",
       "      <td>2013-04-01</td>\n",
       "      <td>3</td>\n",
       "      <td>107190.0</td>\n",
       "      <td>-39952.0</td>\n",
       "      <td>-59004.0</td>\n",
       "    </tr>\n",
       "    <tr>\n",
       "      <td>2013-05-01</td>\n",
       "      <td>4</td>\n",
       "      <td>106970.0</td>\n",
       "      <td>-220.0</td>\n",
       "      <td>39732.0</td>\n",
       "    </tr>\n",
       "  </tbody>\n",
       "</table>\n",
       "</div>"
      ],
      "text/plain": [
       "            Unnamed: 0    vendas  aumento  aceleracao\n",
       "mes                                                  \n",
       "2013-01-01           0  131479.0      NaN         NaN\n",
       "2013-02-01           1  128090.0  -3389.0         NaN\n",
       "2013-03-01           2  147142.0  19052.0     22441.0\n",
       "2013-04-01           3  107190.0 -39952.0    -59004.0\n",
       "2013-05-01           4  106970.0   -220.0     39732.0"
      ]
     },
     "execution_count": 45,
     "metadata": {},
     "output_type": "execute_result"
    }
   ],
   "source": [
    "ts.head()"
   ]
  },
  {
   "cell_type": "code",
   "execution_count": 46,
   "metadata": {},
   "outputs": [
    {
     "data": {
      "text/plain": [
       "Unnamed: 0      int64\n",
       "vendas        float64\n",
       "aumento       float64\n",
       "aceleracao    float64\n",
       "dtype: object"
      ]
     },
     "execution_count": 46,
     "metadata": {},
     "output_type": "execute_result"
    }
   ],
   "source": [
    "ts.dtypes"
   ]
  },
  {
   "cell_type": "code",
   "execution_count": 50,
   "metadata": {},
   "outputs": [],
   "source": [
    "ts.drop('aceleracao' ,axis=1, inplace=True)"
   ]
  },
  {
   "cell_type": "code",
   "execution_count": 40,
   "metadata": {},
   "outputs": [],
   "source": [
    "for linha in ts.index:\n",
    "    ts.loc[linha, 'vendas'] = int(ts.loc[linha, 'vendas'])"
   ]
  },
  {
   "cell_type": "code",
   "execution_count": 64,
   "metadata": {},
   "outputs": [
    {
     "ename": "TypeError",
     "evalue": "'(slice(None, None, None), 0)' is an invalid key",
     "output_type": "error",
     "traceback": [
      "\u001b[1;31m---------------------------------------------------------------------------\u001b[0m",
      "\u001b[1;31mTypeError\u001b[0m                                 Traceback (most recent call last)",
      "\u001b[1;32m<ipython-input-64-f439aee5ba7f>\u001b[0m in \u001b[0;36m<module>\u001b[1;34m\u001b[0m\n\u001b[1;32m----> 1\u001b[1;33m \u001b[0mts\u001b[0m\u001b[1;33m[\u001b[0m\u001b[1;33m:\u001b[0m\u001b[1;33m,\u001b[0m\u001b[1;36m0\u001b[0m\u001b[1;33m]\u001b[0m \u001b[1;33m==\u001b[0m \u001b[1;36m0\u001b[0m\u001b[1;33m\u001b[0m\u001b[1;33m\u001b[0m\u001b[0m\n\u001b[0m",
      "\u001b[1;32m~\\AppData\\Local\\Continuum\\anaconda3\\lib\\site-packages\\pandas\\core\\frame.py\u001b[0m in \u001b[0;36m__getitem__\u001b[1;34m(self, key)\u001b[0m\n\u001b[0;32m   2978\u001b[0m             \u001b[1;32mif\u001b[0m \u001b[0mself\u001b[0m\u001b[1;33m.\u001b[0m\u001b[0mcolumns\u001b[0m\u001b[1;33m.\u001b[0m\u001b[0mnlevels\u001b[0m \u001b[1;33m>\u001b[0m \u001b[1;36m1\u001b[0m\u001b[1;33m:\u001b[0m\u001b[1;33m\u001b[0m\u001b[1;33m\u001b[0m\u001b[0m\n\u001b[0;32m   2979\u001b[0m                 \u001b[1;32mreturn\u001b[0m \u001b[0mself\u001b[0m\u001b[1;33m.\u001b[0m\u001b[0m_getitem_multilevel\u001b[0m\u001b[1;33m(\u001b[0m\u001b[0mkey\u001b[0m\u001b[1;33m)\u001b[0m\u001b[1;33m\u001b[0m\u001b[1;33m\u001b[0m\u001b[0m\n\u001b[1;32m-> 2980\u001b[1;33m             \u001b[0mindexer\u001b[0m \u001b[1;33m=\u001b[0m \u001b[0mself\u001b[0m\u001b[1;33m.\u001b[0m\u001b[0mcolumns\u001b[0m\u001b[1;33m.\u001b[0m\u001b[0mget_loc\u001b[0m\u001b[1;33m(\u001b[0m\u001b[0mkey\u001b[0m\u001b[1;33m)\u001b[0m\u001b[1;33m\u001b[0m\u001b[1;33m\u001b[0m\u001b[0m\n\u001b[0m\u001b[0;32m   2981\u001b[0m             \u001b[1;32mif\u001b[0m \u001b[0mis_integer\u001b[0m\u001b[1;33m(\u001b[0m\u001b[0mindexer\u001b[0m\u001b[1;33m)\u001b[0m\u001b[1;33m:\u001b[0m\u001b[1;33m\u001b[0m\u001b[1;33m\u001b[0m\u001b[0m\n\u001b[0;32m   2982\u001b[0m                 \u001b[0mindexer\u001b[0m \u001b[1;33m=\u001b[0m \u001b[1;33m[\u001b[0m\u001b[0mindexer\u001b[0m\u001b[1;33m]\u001b[0m\u001b[1;33m\u001b[0m\u001b[1;33m\u001b[0m\u001b[0m\n",
      "\u001b[1;32m~\\AppData\\Local\\Continuum\\anaconda3\\lib\\site-packages\\pandas\\core\\indexes\\base.py\u001b[0m in \u001b[0;36mget_loc\u001b[1;34m(self, key, method, tolerance)\u001b[0m\n\u001b[0;32m   2895\u001b[0m                 )\n\u001b[0;32m   2896\u001b[0m             \u001b[1;32mtry\u001b[0m\u001b[1;33m:\u001b[0m\u001b[1;33m\u001b[0m\u001b[1;33m\u001b[0m\u001b[0m\n\u001b[1;32m-> 2897\u001b[1;33m                 \u001b[1;32mreturn\u001b[0m \u001b[0mself\u001b[0m\u001b[1;33m.\u001b[0m\u001b[0m_engine\u001b[0m\u001b[1;33m.\u001b[0m\u001b[0mget_loc\u001b[0m\u001b[1;33m(\u001b[0m\u001b[0mkey\u001b[0m\u001b[1;33m)\u001b[0m\u001b[1;33m\u001b[0m\u001b[1;33m\u001b[0m\u001b[0m\n\u001b[0m\u001b[0;32m   2898\u001b[0m             \u001b[1;32mexcept\u001b[0m \u001b[0mKeyError\u001b[0m\u001b[1;33m:\u001b[0m\u001b[1;33m\u001b[0m\u001b[1;33m\u001b[0m\u001b[0m\n\u001b[0;32m   2899\u001b[0m                 \u001b[1;32mreturn\u001b[0m \u001b[0mself\u001b[0m\u001b[1;33m.\u001b[0m\u001b[0m_engine\u001b[0m\u001b[1;33m.\u001b[0m\u001b[0mget_loc\u001b[0m\u001b[1;33m(\u001b[0m\u001b[0mself\u001b[0m\u001b[1;33m.\u001b[0m\u001b[0m_maybe_cast_indexer\u001b[0m\u001b[1;33m(\u001b[0m\u001b[0mkey\u001b[0m\u001b[1;33m)\u001b[0m\u001b[1;33m)\u001b[0m\u001b[1;33m\u001b[0m\u001b[1;33m\u001b[0m\u001b[0m\n",
      "\u001b[1;32mpandas\\_libs\\index.pyx\u001b[0m in \u001b[0;36mpandas._libs.index.IndexEngine.get_loc\u001b[1;34m()\u001b[0m\n",
      "\u001b[1;32mpandas\\_libs\\index.pyx\u001b[0m in \u001b[0;36mpandas._libs.index.IndexEngine.get_loc\u001b[1;34m()\u001b[0m\n",
      "\u001b[1;31mTypeError\u001b[0m: '(slice(None, None, None), 0)' is an invalid key"
     ]
    }
   ],
   "source": [
    "ts.loc[:,"
   ]
  },
  {
   "cell_type": "code",
   "execution_count": 69,
   "metadata": {},
   "outputs": [],
   "source": [
    "ts_no_constants = ts.loc[:, (ts != ts.iloc[0]).any()]"
   ]
  },
  {
   "cell_type": "code",
   "execution_count": 77,
   "metadata": {},
   "outputs": [
    {
     "data": {
      "text/html": [
       "<div>\n",
       "<style scoped>\n",
       "    .dataframe tbody tr th:only-of-type {\n",
       "        vertical-align: middle;\n",
       "    }\n",
       "\n",
       "    .dataframe tbody tr th {\n",
       "        vertical-align: top;\n",
       "    }\n",
       "\n",
       "    .dataframe thead th {\n",
       "        text-align: right;\n",
       "    }\n",
       "</style>\n",
       "<table border=\"1\" class=\"dataframe\">\n",
       "  <thead>\n",
       "    <tr style=\"text-align: right;\">\n",
       "      <th></th>\n",
       "      <th>vendas</th>\n",
       "    </tr>\n",
       "    <tr>\n",
       "      <th>mes</th>\n",
       "      <th></th>\n",
       "    </tr>\n",
       "  </thead>\n",
       "  <tbody>\n",
       "    <tr>\n",
       "      <td>2013-01-01</td>\n",
       "      <td>0.849691</td>\n",
       "    </tr>\n",
       "    <tr>\n",
       "      <td>2013-02-01</td>\n",
       "      <td>0.730595</td>\n",
       "    </tr>\n",
       "    <tr>\n",
       "      <td>2013-03-01</td>\n",
       "      <td>1.400119</td>\n",
       "    </tr>\n",
       "    <tr>\n",
       "      <td>2013-04-01</td>\n",
       "      <td>-0.003872</td>\n",
       "    </tr>\n",
       "    <tr>\n",
       "      <td>2013-05-01</td>\n",
       "      <td>-0.011603</td>\n",
       "    </tr>\n",
       "    <tr>\n",
       "      <td>2013-06-01</td>\n",
       "      <td>0.635395</td>\n",
       "    </tr>\n",
       "    <tr>\n",
       "      <td>2013-07-01</td>\n",
       "      <td>0.339676</td>\n",
       "    </tr>\n",
       "    <tr>\n",
       "      <td>2013-08-01</td>\n",
       "      <td>0.632233</td>\n",
       "    </tr>\n",
       "    <tr>\n",
       "      <td>2013-09-01</td>\n",
       "      <td>0.914809</td>\n",
       "    </tr>\n",
       "    <tr>\n",
       "      <td>2013-10-01</td>\n",
       "      <td>0.711302</td>\n",
       "    </tr>\n",
       "    <tr>\n",
       "      <td>2013-11-01</td>\n",
       "      <td>0.798032</td>\n",
       "    </tr>\n",
       "    <tr>\n",
       "      <td>2013-12-01</td>\n",
       "      <td>2.672258</td>\n",
       "    </tr>\n",
       "    <tr>\n",
       "      <td>2014-01-01</td>\n",
       "      <td>0.337321</td>\n",
       "    </tr>\n",
       "    <tr>\n",
       "      <td>2014-02-01</td>\n",
       "      <td>0.083878</td>\n",
       "    </tr>\n",
       "    <tr>\n",
       "      <td>2014-03-01</td>\n",
       "      <td>0.281024</td>\n",
       "    </tr>\n",
       "    <tr>\n",
       "      <td>2014-04-01</td>\n",
       "      <td>-0.377571</td>\n",
       "    </tr>\n",
       "    <tr>\n",
       "      <td>2014-05-01</td>\n",
       "      <td>-0.334206</td>\n",
       "    </tr>\n",
       "    <tr>\n",
       "      <td>2014-06-01</td>\n",
       "      <td>-0.346892</td>\n",
       "    </tr>\n",
       "    <tr>\n",
       "      <td>2014-07-01</td>\n",
       "      <td>-0.562980</td>\n",
       "    </tr>\n",
       "    <tr>\n",
       "      <td>2014-08-01</td>\n",
       "      <td>-0.160921</td>\n",
       "    </tr>\n",
       "    <tr>\n",
       "      <td>2014-09-01</td>\n",
       "      <td>-0.284375</td>\n",
       "    </tr>\n",
       "    <tr>\n",
       "      <td>2014-10-01</td>\n",
       "      <td>0.004281</td>\n",
       "    </tr>\n",
       "    <tr>\n",
       "      <td>2014-11-01</td>\n",
       "      <td>0.370566</td>\n",
       "    </tr>\n",
       "    <tr>\n",
       "      <td>2014-12-01</td>\n",
       "      <td>2.159642</td>\n",
       "    </tr>\n",
       "    <tr>\n",
       "      <td>2015-01-01</td>\n",
       "      <td>0.129000</td>\n",
       "    </tr>\n",
       "    <tr>\n",
       "      <td>2015-02-01</td>\n",
       "      <td>-0.811855</td>\n",
       "    </tr>\n",
       "    <tr>\n",
       "      <td>2015-03-01</td>\n",
       "      <td>-0.888606</td>\n",
       "    </tr>\n",
       "    <tr>\n",
       "      <td>2015-04-01</td>\n",
       "      <td>-1.035745</td>\n",
       "    </tr>\n",
       "    <tr>\n",
       "      <td>2015-05-01</td>\n",
       "      <td>-1.230150</td>\n",
       "    </tr>\n",
       "    <tr>\n",
       "      <td>2015-06-01</td>\n",
       "      <td>-1.517646</td>\n",
       "    </tr>\n",
       "    <tr>\n",
       "      <td>2015-07-01</td>\n",
       "      <td>-1.550223</td>\n",
       "    </tr>\n",
       "    <tr>\n",
       "      <td>2015-08-01</td>\n",
       "      <td>-1.448592</td>\n",
       "    </tr>\n",
       "    <tr>\n",
       "      <td>2015-09-01</td>\n",
       "      <td>-1.210892</td>\n",
       "    </tr>\n",
       "    <tr>\n",
       "      <td>2015-10-01</td>\n",
       "      <td>-1.273691</td>\n",
       "    </tr>\n",
       "  </tbody>\n",
       "</table>\n",
       "</div>"
      ],
      "text/plain": [
       "              vendas\n",
       "mes                 \n",
       "2013-01-01  0.849691\n",
       "2013-02-01  0.730595\n",
       "2013-03-01  1.400119\n",
       "2013-04-01 -0.003872\n",
       "2013-05-01 -0.011603\n",
       "2013-06-01  0.635395\n",
       "2013-07-01  0.339676\n",
       "2013-08-01  0.632233\n",
       "2013-09-01  0.914809\n",
       "2013-10-01  0.711302\n",
       "2013-11-01  0.798032\n",
       "2013-12-01  2.672258\n",
       "2014-01-01  0.337321\n",
       "2014-02-01  0.083878\n",
       "2014-03-01  0.281024\n",
       "2014-04-01 -0.377571\n",
       "2014-05-01 -0.334206\n",
       "2014-06-01 -0.346892\n",
       "2014-07-01 -0.562980\n",
       "2014-08-01 -0.160921\n",
       "2014-09-01 -0.284375\n",
       "2014-10-01  0.004281\n",
       "2014-11-01  0.370566\n",
       "2014-12-01  2.159642\n",
       "2015-01-01  0.129000\n",
       "2015-02-01 -0.811855\n",
       "2015-03-01 -0.888606\n",
       "2015-04-01 -1.035745\n",
       "2015-05-01 -1.230150\n",
       "2015-06-01 -1.517646\n",
       "2015-07-01 -1.550223\n",
       "2015-08-01 -1.448592\n",
       "2015-09-01 -1.210892\n",
       "2015-10-01 -1.273691"
      ]
     },
     "execution_count": 77,
     "metadata": {},
     "output_type": "execute_result"
    }
   ],
   "source": [
    "ts_no_constants.dropna()\n",
    "ori_data = (ts_no_constants - ts_no_constants.mean()) / ts_no_constants.std()\n",
    "ori_data"
   ]
  },
  {
   "cell_type": "code",
   "execution_count": 78,
   "metadata": {},
   "outputs": [
    {
     "name": "stderr",
     "output_type": "stream",
     "text": [
      "C:\\Users\\samusilv\\AppData\\Local\\Continuum\\anaconda3\\lib\\site-packages\\statsmodels\\tsa\\base\\tsa_model.py:165: ValueWarning: No frequency information was provided, so inferred frequency MS will be used.\n",
      "  % freq, ValueWarning)\n",
      "C:\\Users\\samusilv\\AppData\\Local\\Continuum\\anaconda3\\lib\\site-packages\\statsmodels\\tsa\\base\\tsa_model.py:165: ValueWarning: No frequency information was provided, so inferred frequency MS will be used.\n",
      "  % freq, ValueWarning)\n"
     ]
    }
   ],
   "source": [
    "modelo = ARIMA(ori_data, order=(2,1,2))"
   ]
  },
  {
   "cell_type": "code",
   "execution_count": 79,
   "metadata": {},
   "outputs": [],
   "source": [
    "modelo_train = modelo.fit()"
   ]
  },
  {
   "cell_type": "code",
   "execution_count": 80,
   "metadata": {},
   "outputs": [
    {
     "data": {
      "text/html": [
       "<table class=\"simpletable\">\n",
       "<caption>ARIMA Model Results</caption>\n",
       "<tr>\n",
       "  <th>Dep. Variable:</th>     <td>D.vendas</td>     <th>  No. Observations:  </th>   <td>33</td>   \n",
       "</tr>\n",
       "<tr>\n",
       "  <th>Model:</th>          <td>ARIMA(2, 1, 2)</td>  <th>  Log Likelihood     </th> <td>-35.708</td>\n",
       "</tr>\n",
       "<tr>\n",
       "  <th>Method:</th>             <td>css-mle</td>     <th>  S.D. of innovations</th>  <td>0.671</td> \n",
       "</tr>\n",
       "<tr>\n",
       "  <th>Date:</th>          <td>Mon, 17 Feb 2020</td> <th>  AIC                </th> <td>83.415</td> \n",
       "</tr>\n",
       "<tr>\n",
       "  <th>Time:</th>              <td>15:16:34</td>     <th>  BIC                </th> <td>92.394</td> \n",
       "</tr>\n",
       "<tr>\n",
       "  <th>Sample:</th>           <td>02-01-2013</td>    <th>  HQIC               </th> <td>86.436</td> \n",
       "</tr>\n",
       "<tr>\n",
       "  <th></th>                 <td>- 10-01-2015</td>   <th>                     </th>    <td> </td>   \n",
       "</tr>\n",
       "</table>\n",
       "<table class=\"simpletable\">\n",
       "<tr>\n",
       "         <td></td>           <th>coef</th>     <th>std err</th>      <th>z</th>      <th>P>|z|</th>  <th>[0.025</th>    <th>0.975]</th>  \n",
       "</tr>\n",
       "<tr>\n",
       "  <th>const</th>          <td>   -0.0727</td> <td>    0.114</td> <td>   -0.640</td> <td> 0.527</td> <td>   -0.295</td> <td>    0.150</td>\n",
       "</tr>\n",
       "<tr>\n",
       "  <th>ar.L1.D.vendas</th> <td>   -0.9175</td> <td>    0.086</td> <td>  -10.635</td> <td> 0.000</td> <td>   -1.087</td> <td>   -0.748</td>\n",
       "</tr>\n",
       "<tr>\n",
       "  <th>ar.L2.D.vendas</th> <td>   -0.9785</td> <td>    0.045</td> <td>  -21.877</td> <td> 0.000</td> <td>   -1.066</td> <td>   -0.891</td>\n",
       "</tr>\n",
       "<tr>\n",
       "  <th>ma.L1.D.vendas</th> <td>    0.8103</td> <td>    0.161</td> <td>    5.018</td> <td> 0.000</td> <td>    0.494</td> <td>    1.127</td>\n",
       "</tr>\n",
       "<tr>\n",
       "  <th>ma.L2.D.vendas</th> <td>    1.0000</td> <td>    0.153</td> <td>    6.516</td> <td> 0.000</td> <td>    0.699</td> <td>    1.301</td>\n",
       "</tr>\n",
       "</table>\n",
       "<table class=\"simpletable\">\n",
       "<caption>Roots</caption>\n",
       "<tr>\n",
       "    <td></td>   <th>            Real</th>  <th>         Imaginary</th> <th>         Modulus</th>  <th>        Frequency</th>\n",
       "</tr>\n",
       "<tr>\n",
       "  <th>AR.1</th> <td>          -0.4688</td> <td>          -0.8956j</td> <td>           1.0109</td> <td>          -0.3268</td>\n",
       "</tr>\n",
       "<tr>\n",
       "  <th>AR.2</th> <td>          -0.4688</td> <td>          +0.8956j</td> <td>           1.0109</td> <td>           0.3268</td>\n",
       "</tr>\n",
       "<tr>\n",
       "  <th>MA.1</th> <td>          -0.4051</td> <td>          -0.9143j</td> <td>           1.0000</td> <td>          -0.3164</td>\n",
       "</tr>\n",
       "<tr>\n",
       "  <th>MA.2</th> <td>          -0.4051</td> <td>          +0.9143j</td> <td>           1.0000</td> <td>           0.3164</td>\n",
       "</tr>\n",
       "</table>"
      ],
      "text/plain": [
       "<class 'statsmodels.iolib.summary.Summary'>\n",
       "\"\"\"\n",
       "                             ARIMA Model Results                              \n",
       "==============================================================================\n",
       "Dep. Variable:               D.vendas   No. Observations:                   33\n",
       "Model:                 ARIMA(2, 1, 2)   Log Likelihood                 -35.708\n",
       "Method:                       css-mle   S.D. of innovations              0.671\n",
       "Date:                Mon, 17 Feb 2020   AIC                             83.415\n",
       "Time:                        15:16:34   BIC                             92.394\n",
       "Sample:                    02-01-2013   HQIC                            86.436\n",
       "                         - 10-01-2015                                         \n",
       "==================================================================================\n",
       "                     coef    std err          z      P>|z|      [0.025      0.975]\n",
       "----------------------------------------------------------------------------------\n",
       "const             -0.0727      0.114     -0.640      0.527      -0.295       0.150\n",
       "ar.L1.D.vendas    -0.9175      0.086    -10.635      0.000      -1.087      -0.748\n",
       "ar.L2.D.vendas    -0.9785      0.045    -21.877      0.000      -1.066      -0.891\n",
       "ma.L1.D.vendas     0.8103      0.161      5.018      0.000       0.494       1.127\n",
       "ma.L2.D.vendas     1.0000      0.153      6.516      0.000       0.699       1.301\n",
       "                                    Roots                                    \n",
       "=============================================================================\n",
       "                  Real          Imaginary           Modulus         Frequency\n",
       "-----------------------------------------------------------------------------\n",
       "AR.1           -0.4688           -0.8956j            1.0109           -0.3268\n",
       "AR.2           -0.4688           +0.8956j            1.0109            0.3268\n",
       "MA.1           -0.4051           -0.9143j            1.0000           -0.3164\n",
       "MA.2           -0.4051           +0.9143j            1.0000            0.3164\n",
       "-----------------------------------------------------------------------------\n",
       "\"\"\""
      ]
     },
     "execution_count": 80,
     "metadata": {},
     "output_type": "execute_result"
    }
   ],
   "source": [
    "modelo_train.summary()"
   ]
  },
  {
   "cell_type": "code",
   "execution_count": 81,
   "metadata": {},
   "outputs": [],
   "source": [
    "previsoes = modelo_train.forecast(steps = 12) # prevendo os proximos 12 meses"
   ]
  },
  {
   "cell_type": "code",
   "execution_count": 83,
   "metadata": {},
   "outputs": [
    {
     "data": {
      "text/plain": [
       "array([-1.69434682, -1.31618775, -1.46219564, -1.90892791, -1.56681446,\n",
       "       -1.6542321 , -2.11945154, -1.81770808, -1.84999402, -2.32629568,\n",
       "       -2.06833229, -2.04960366])"
      ]
     },
     "execution_count": 83,
     "metadata": {},
     "output_type": "execute_result"
    }
   ],
   "source": [
    "previsoes[0] # previsão pros proximos 12 meses"
   ]
  },
  {
   "cell_type": "code",
   "execution_count": 86,
   "metadata": {},
   "outputs": [
    {
     "data": {
      "image/png": "[encoded data removed]",
      "text/plain": [
       "<Figure size 432x288 with 1 Axes>"
      ]
     },
     "execution_count": 86,
     "metadata": {},
     "output_type": "execute_result"
    },
    {
     "data": {
      "image/png": "[encoded data removed]",
      "text/plain": [
       "<Figure size 432x288 with 1 Axes>"
      ]
     },
     "metadata": {
      "needs_background": "light"
     },
     "output_type": "display_data"
    }
   ],
   "source": [
    "eixo = ori_data.plot()\n",
    "modelo_train.plot_predict('2015-08-01','2017-08-01', ax = eixo, plot_insample = True) # Grafico de previsão de vendas"
   ]
  },
  {
   "cell_type": "code",
   "execution_count": null,
   "metadata": {},
   "outputs": [],
   "source": []
  }
 ],
 "metadata": {
  "kernelspec": {
   "display_name": "Python 3",
   "language": "python",
   "name": "python3"
  },
  "language_info": {
   "codemirror_mode": {
    "name": "ipython",
    "version": 3
   },
   "file_extension": ".py",
   "mimetype": "text/x-python",
   "name": "python",
   "nbconvert_exporter": "python",
   "pygments_lexer": "ipython3",
   "version": "3.7.4"
  }
 },
 "nbformat": 4,
 "nbformat_minor": 2
}
